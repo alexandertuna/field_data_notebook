{
 "cells": [
  {
   "cell_type": "markdown",
   "id": "2f21da68-9f5d-4621-a8bb-fdd384e10d8d",
   "metadata": {},
   "source": [
    "## Setting up the environment: pip install and import"
   ]
  },
  {
   "cell_type": "code",
   "execution_count": 1,
   "id": "9d00b716-00ef-4b32-a1a5-4ce8ec12941a",
   "metadata": {},
   "outputs": [],
   "source": [
    "! pip install -q pandas numpy matplotlib shapely geopandas"
   ]
  },
  {
   "cell_type": "code",
   "execution_count": 2,
   "id": "98514f83-5f46-447f-a63f-dc465d4ab067",
   "metadata": {},
   "outputs": [],
   "source": [
    "import numpy as np\n",
    "import pandas as pd\n",
    "import matplotlib.pyplot as plt\n",
    "from shapely.geometry import Point"
   ]
  },
  {
   "cell_type": "markdown",
   "id": "ce7b69ab-99e2-43b4-a303-9f1dd0774a2d",
   "metadata": {},
   "source": [
    "## Downloading and opening data"
   ]
  },
  {
   "cell_type": "code",
   "execution_count": 3,
   "id": "2e983c3b-a14f-4c5a-b4f1-e9eac6955271",
   "metadata": {},
   "outputs": [],
   "source": [
    "! wget -q https://wifire-data.sdsc.edu/nc/public.php/dav/files/nnSMqWfZAN6Cz6m/new_data/field_data/01_plot_identification.csv\n",
    "! wget -q https://wifire-data.sdsc.edu/nc/public.php/dav/files/nnSMqWfZAN6Cz6m/new_data/field_data/03_tree.csv"
   ]
  },
  {
   "cell_type": "code",
   "execution_count": 4,
   "id": "b7d683a1-2b53-436d-b78a-3af80ab361ce",
   "metadata": {},
   "outputs": [],
   "source": [
    "df_plots = pd.read_csv(\"01_plot_identification.csv\")\n",
    "df_trees = pd.read_csv(\"03_tree.csv\")"
   ]
  },
  {
   "cell_type": "markdown",
   "id": "6e97031b-3d71-4d68-a9be-fff9ef4d4785",
   "metadata": {},
   "source": [
    "## Inspecting the columns of the dataframes"
   ]
  },
  {
   "cell_type": "code",
   "execution_count": 5,
   "id": "c4b1d665-641e-4e86-ba23-dd6efff59a35",
   "metadata": {},
   "outputs": [],
   "source": [
    "def print_column_names(df):\n",
    "    cols = 4\n",
    "    for i, col in enumerate(df.columns):\n",
    "        last_col = (i + 1) % cols == 0\n",
    "        end = \"\\n\" if last_col else \" \"\n",
    "        print(f\"{col:30}\", end=end)"
   ]
  },
  {
   "cell_type": "code",
   "execution_count": null,
   "id": "634ebba5-4a2f-44f2-8d5d-2677e25eda64",
   "metadata": {},
   "outputs": [],
   "source": [
    "print_column_names(df_plots)"
   ]
  },
  {
   "cell_type": "code",
   "execution_count": null,
   "id": "2094aebe-2b75-4a40-89b7-3c7c871036bd",
   "metadata": {},
   "outputs": [],
   "source": [
    "print_column_names(df_trees)"
   ]
  },
  {
   "cell_type": "markdown",
   "id": "e4552cfa-4ff3-4ca6-859a-637932eaddf6",
   "metadata": {},
   "source": [
    "## Inspecting the rows of the dataframes"
   ]
  },
  {
   "cell_type": "code",
   "execution_count": 8,
   "id": "3908fd69-eb19-4795-9021-2ee9da7a7c98",
   "metadata": {},
   "outputs": [],
   "source": [
    "#\n",
    "# Thats a lot of columns\n",
    "# Lets look at entries for a few of them\n",
    "#"
   ]
  },
  {
   "cell_type": "code",
   "execution_count": null,
   "id": "b43aa539-76e7-4c6f-93ed-231a49808c69",
   "metadata": {},
   "outputs": [],
   "source": [
    "#\n",
    "# Plots dataframe\n",
    "#\n",
    "with pd.option_context(\"display.width\", 120):\n",
    "    cols = [\"inventory_id\", \"plot_coord_x\", \"plot_coord_y\", \"site_name\", \"site_name_label\", \"inventory_date\"]\n",
    "    print(df_plots[cols])"
   ]
  },
  {
   "cell_type": "code",
   "execution_count": null,
   "id": "1154949b-8f94-455f-b2f3-2630d95ad13d",
   "metadata": {},
   "outputs": [],
   "source": [
    "#\n",
    "# Trees dataframe\n",
    "#\n",
    "with pd.option_context(\"display.width\", 120):\n",
    "    # dbh: Diameter at Base Height\n",
    "    # htlcb: Height to Live Crown Base\n",
    "    cols = [\"inventory_id\", \"tree_id\", \"tree_sp_scientific_name\", \"tree_status\", \"tree_dbh\", \"tree_htlcb\"]\n",
    "    print(df_trees[cols])"
   ]
  },
  {
   "cell_type": "markdown",
   "id": "6e09f945-ad08-4d93-9c25-0c09b958a0ab",
   "metadata": {},
   "source": [
    "## Where are the sites?"
   ]
  },
  {
   "cell_type": "code",
   "execution_count": null,
   "id": "b3ff7fd8-6681-4781-8725-dc087c07a593",
   "metadata": {},
   "outputs": [],
   "source": [
    "print(df_plots[[\"site_name_label\", \"plot_coord_x\", \"plot_coord_y\", \"plot_coord_srs\"]])"
   ]
  },
  {
   "cell_type": "code",
   "execution_count": null,
   "id": "0ffe4890-48ef-4e62-824e-dacc9e137deb",
   "metadata": {},
   "outputs": [],
   "source": [
    "#\n",
    "# We can use x, y, and srs (Spatial Reference System) to create columns for latitude and longitude\n",
    "# THIS DOESNT WORK YET\n",
    "#\n",
    "gdfs = []\n",
    "for crs in df_plots[\"plot_coord_srs\"].unique():\n",
    "    df_crs = df_plots[df_plots[\"plot_coord_srs\"] == crs]\n",
    "    geometry = [Point(xy) for xy in zip(df_crs[\"plot_coord_x\"], df_crs[\"plot_coord_y\"])]\n",
    "    gdf = gpd.GeoDataFrame(df_crs, geometry=geometry, crs=f\"EPSG:{crs}\")\n",
    "    gdf = gdf.to_crs(epsg=4326)\n",
    "    gdfs.append(gdf)\n",
    "\n",
    "# Combine all GeoDataFrames back into one\n",
    "gdf_combined = pd.concat(gdfs)\n",
    "\n",
    "# Extract longitude and latitude from geometry\n",
    "gdf_combined[\"longitude\"] = gdf_combined.geometry.x\n",
    "gdf_combined[\"latitude\"] = gdf_combined.geometry.y"
   ]
  },
  {
   "cell_type": "markdown",
   "id": "a0f6e505-9d33-43ba-9868-840b0add2204",
   "metadata": {},
   "source": [
    "## How many plots are at each site?"
   ]
  },
  {
   "cell_type": "code",
   "execution_count": null,
   "id": "ccdd452f-5623-4929-a033-090f0f3fc95e",
   "metadata": {},
   "outputs": [],
   "source": [
    "col = \"site_name_label\"\n",
    "for label in df_plots[col].unique():\n",
    "    nplots = (df_plots[col] == label).sum()\n",
    "    print(f\"{nplots} plots from {label}\")"
   ]
  },
  {
   "cell_type": "markdown",
   "id": "1638c6eb-c9c6-47d3-a384-cc14d99caef9",
   "metadata": {},
   "source": [
    "## Adding site name to the tree DataFrame via `merge`"
   ]
  },
  {
   "cell_type": "code",
   "execution_count": null,
   "id": "6e782d81-5751-4f57-bbf1-1092354bc997",
   "metadata": {},
   "outputs": [],
   "source": [
    "col = \"site_name_label\"\n",
    "if col not in df_trees.columns:\n",
    "    df_trees = df_trees.merge(df_plots[[\"inventory_id\", col]], on=\"inventory_id\", how=\"left\")\n",
    "\n",
    "print(df_trees[col])\n",
    "print()\n",
    "print(\"Unique site names:\")\n",
    "print(\"\\n\".join(df_trees[col].unique()))"
   ]
  },
  {
   "cell_type": "markdown",
   "id": "c32aa4ea-6bd1-4b80-af33-3416bd99010e",
   "metadata": {},
   "source": [
    "## A few tree-level distributions"
   ]
  },
  {
   "cell_type": "code",
   "execution_count": null,
   "id": "2631ad44-066c-4aa5-bf65-e72580f56409",
   "metadata": {},
   "outputs": [],
   "source": [
    "#\n",
    "# First, lets group the DataFrame by site\n",
    "#\n",
    "grouped = df_trees.groupby(\"site_name_label\")\n",
    "site_names = grouped.groups.keys()\n",
    "print(\"\\n\".join(site_names))"
   ]
  },
  {
   "cell_type": "code",
   "execution_count": null,
   "id": "9a131295-4616-4864-9c5b-15dd1a6e25a9",
   "metadata": {},
   "outputs": [],
   "source": [
    "#\n",
    "# Lets arrange the grouped columns for a stacked histogram\n",
    "#\n",
    "features = [\"dbh\", \"htlcb\", \"ht\"]\n",
    "tree = {feature:\n",
    "        grouped[f\"tree_{feature}\"].apply(list)\n",
    "        for feature in features}\n",
    "for feature in tree:\n",
    "    print(\"**\", feature, \"**\")\n",
    "    print(tree[feature])\n",
    "    print()"
   ]
  },
  {
   "cell_type": "code",
   "execution_count": 17,
   "id": "8dc5b316-4784-4f3e-9834-94409532963c",
   "metadata": {},
   "outputs": [],
   "source": [
    "#\n",
    "# Plotting args\n",
    "#\n",
    "bins = dict(\n",
    "    dbh=np.arange(0, 150, step=10),\n",
    "    htlcb=np.arange(0, 40, step=2),\n",
    "    ht=np.arange(0, 70, step=5),\n",
    ")\n",
    "\n",
    "kwargs = dict(\n",
    "    stacked=True,\n",
    "    edgecolor=\"black\",\n",
    "    linewidth=0.5,\n",
    "    label=site_names,\n",
    ")"
   ]
  },
  {
   "cell_type": "code",
   "execution_count": null,
   "id": "74c79cf7-ed2e-462b-88ec-713c5666f1f0",
   "metadata": {},
   "outputs": [],
   "source": [
    "#\n",
    "# Plotting\n",
    "#\n",
    "fig, ax = plt.subplots(figsize=(8, 4), ncols=2)\n",
    "ax[0].hist(tree[\"dbh\"], bins=bins[\"dbh\"], **kwargs)\n",
    "ax[0].set_xlabel(\"Diameter at breast height (DBH) [cm]\")\n",
    "ax[0].set_ylabel(\"Number of trees\")\n",
    "ax[0].legend(fontsize=7)\n",
    "\n",
    "ax[1].hist(tree[\"ht\"], bins=bins[\"ht\"], **kwargs)\n",
    "ax[1].set_xlabel(\"Height (HT) [m]\")\n",
    "ax[1].legend(fontsize=8);"
   ]
  },
  {
   "cell_type": "code",
   "execution_count": null,
   "id": "e20c12f4-456a-4bac-95ab-da8bc2ca8e47",
   "metadata": {},
   "outputs": [],
   "source": [
    "#\n",
    "# For 2D, lets compare height and diameter\n",
    "#\n",
    "fig, ax = plt.subplots(figsize=(8, 6))\n",
    "cmap, cmin = plt.cm.winter_r, 0.5\n",
    "bins = (np.arange(0, 100, step=2), np.arange(0, 60, step=2))\n",
    "_, _, _, im = ax.hist2d(df_trees[\"tree_dbh\"], df_trees[\"tree_ht\"], bins=bins, cmap=cmap, cmin=cmin)\n",
    "ax.set_xlabel(\"Diameter at breast height (DBH) [cm]\")\n",
    "ax.set_ylabel(\"Height (HT) [m]\")\n",
    "ax.tick_params(top=True, right=True)\n",
    "cbar = fig.colorbar(im, ax=ax)\n",
    "cbar.set_label(\"Number of trees\")"
   ]
  },
  {
   "cell_type": "markdown",
   "id": "e04fbc53-291a-4a3d-b0fd-2f30216ea8e4",
   "metadata": {},
   "source": [
    "---"
   ]
  },
  {
   "cell_type": "markdown",
   "id": "91bcac6f-0b80-47c5-8f13-82a4e7403c6c",
   "metadata": {},
   "source": [
    "## Below here is sandboxing"
   ]
  },
  {
   "cell_type": "code",
   "execution_count": null,
   "id": "dca8c6cb-2714-4fb8-bf4a-139bacb9cf82",
   "metadata": {},
   "outputs": [],
   "source": [
    "print(df_trees[ is_site[\"SDR\"] ][\"tree_htlcb\"])"
   ]
  },
  {
   "cell_type": "code",
   "execution_count": null,
   "id": "5d2385af-3586-4cb7-9c02-584ea5035cda",
   "metadata": {},
   "outputs": [],
   "source": [
    "! wget -q https://wifire-data.sdsc.edu/nc/public.php/dav/files/nnSMqWfZAN6Cz6m/new_data/field_data/SchemaSummary.csv\n",
    "df_schema = pd.read_csv(\"SchemaSummary.csv\")\n",
    "print(df_schema)"
   ]
  },
  {
   "cell_type": "code",
   "execution_count": null,
   "id": "4892ef8a-8540-4391-9b8f-ba84bb0610cf",
   "metadata": {},
   "outputs": [],
   "source": [
    "print(df_plots[\"plot_coord_x\"])\n",
    "print(df_plots[\"plot_coord_y\"])"
   ]
  },
  {
   "cell_type": "code",
   "execution_count": null,
   "id": "f59174e0-fa5b-4338-88ec-6b8574632822",
   "metadata": {},
   "outputs": [],
   "source": [
    "import geopandas as gpd\n",
    "from shapely.geometry import Point\n",
    "\n",
    "# Example DataFrame in CRS 5070\n",
    "data = {\n",
    "    \"plot_coord_x\": [297590, 297640, 297694, 297646, 297603],\n",
    "    \"plot_coord_y\": [4108796, 4108747, 4108903, 4108845, 4108893]\n",
    "}\n",
    "df = pd.DataFrame(data)\n",
    "\n",
    "# Convert DataFrame to GeoDataFrame\n",
    "geometry = [Point(xy) for xy in zip(df[\"plot_coord_x\"], df[\"plot_coord_y\"])]\n",
    "gdf = gpd.GeoDataFrame(df, geometry=geometry, crs=\"EPSG:5070\")\n",
    "\n",
    "# Reproject to WGS84 (latitude and longitude)\n",
    "gdf = gdf.to_crs(epsg=4326)\n",
    "\n",
    "# Extract latitude and longitude from geometry\n",
    "gdf[\"longitude\"] = gdf.geometry.x\n",
    "gdf[\"latitude\"] = gdf.geometry.y\n",
    "\n",
    "# Display the updated GeoDataFrame\n",
    "print(gdf[[\"latitude\", \"longitude\"]])"
   ]
  },
  {
   "cell_type": "code",
   "execution_count": null,
   "id": "49a63f0e-08f2-499b-8051-727937d0fe68",
   "metadata": {},
   "outputs": [],
   "source": [
    "import pandas as pd\n",
    "\n",
    "# Example DataFrame\n",
    "data = {\n",
    "    \"plot_coord_x\": [-119.4179, -120.0, -121.4944],  # Longitude\n",
    "    \"plot_coord_y\": [36.7783, 37.0, 38.5816]        # Latitude\n",
    "}\n",
    "df = pd.DataFrame(data)\n",
    "\n",
    "import matplotlib.pyplot as plt\n",
    "import cartopy.crs as ccrs\n",
    "import cartopy.feature as cfeature\n",
    "\n",
    "# Create a figure and an axis with a specific projection\n",
    "fig, ax = plt.subplots(figsize=(10, 8), subplot_kw={'projection': ccrs.PlateCarree()})\n",
    "\n",
    "# Add features to the map\n",
    "ax.add_feature(cfeature.STATES, edgecolor='black')  # Add state boundaries\n",
    "ax.add_feature(cfeature.LAND, facecolor='lightgray')  # Add land\n",
    "ax.add_feature(cfeature.COASTLINE)  # Add coastlines\n",
    "ax.add_feature(cfeature.BORDERS, linestyle=':')  # Add country borders\n",
    "\n",
    "# Set the extent to focus on California\n",
    "ax.set_extent([-125, -114, 32, 42], crs=ccrs.PlateCarree())  # [lon_min, lon_max, lat_min, lat_max]\n",
    "# ax.set_extent([-225, -14, 12, 72], crs=ccrs.PlateCarree())  # [lon_min, lon_max, lat_min, lat_max]\n",
    "\n",
    "# Plot the points\n",
    "ax.scatter(\n",
    "    gdf['longitude'],\n",
    "    gdf['latitude'],\n",
    "    color='red',\n",
    "    s=50,\n",
    "    transform=ccrs.PlateCarree(),\n",
    "    label='Plot Points',\n",
    ")\n",
    "\n",
    "# Add title and legend\n",
    "ax.set_title(\"Points Overlaid on California Map\", fontsize=15)\n",
    "plt.legend()\n",
    "plt.show()"
   ]
  },
  {
   "cell_type": "code",
   "execution_count": null,
   "id": "a4567aa0-e32d-4d58-967a-7bbffb35acbb",
   "metadata": {},
   "outputs": [],
   "source": [
    "# The internet says Shaver Lake is at:\n",
    "# Latitude: 37.105831 | Longitude: -119.319528\n",
    "\n",
    "from pyproj import Transformer\n",
    "\n",
    "# Example: Assuming the CRS is EPSG:5070 (Conus Albers) and converting to WGS84 (latitude/longitude)\n",
    "transformer = Transformer.from_crs(\"EPSG:32611\", \"EPSG:4326\", always_xy=True)\n",
    "lon, lat = transformer.transform(297590, 4108796)\n",
    "print(f\"Longitude: {lon}, Latitude: {lat}\")"
   ]
  },
  {
   "cell_type": "code",
   "execution_count": null,
   "id": "85378aa0-6003-49b8-93e3-10e29d8d4b0a",
   "metadata": {},
   "outputs": [],
   "source": []
  }
 ],
 "metadata": {
  "kernelspec": {
   "display_name": "env",
   "language": "python",
   "name": "python3"
  },
  "language_info": {
   "codemirror_mode": {
    "name": "ipython",
    "version": 3
   },
   "file_extension": ".py",
   "mimetype": "text/x-python",
   "name": "python",
   "nbconvert_exporter": "python",
   "pygments_lexer": "ipython3",
   "version": "3.11.10"
  }
 },
 "nbformat": 4,
 "nbformat_minor": 5
}
